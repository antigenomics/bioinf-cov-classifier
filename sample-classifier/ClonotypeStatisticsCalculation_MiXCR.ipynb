{
 "cells": [
  {
   "cell_type": "markdown",
   "metadata": {},
   "source": [
    "The notebook contains code to extract clonotype frequency statistics from raw sequencing paired-reads [data](https://www.ebi.ac.uk/ena/browser/view/PRJEB38339) \n",
    "used in [\"Use of machine learning to identify a T cell response to SARS-CoV-2\"](https://www.sciencedirect.com/science/article/pii/S2666379121000033) (Shoukat et al.)\n",
    "with\n",
    "[MiXCR](https://github.com/milaboratory/mixcr).\n",
    "\n",
    "Records with aliases containing \"TRB\" or \"TCRb\" were used.\n",
    "\n",
    "This notebook should be moved to the uncompressed folder. The folder also contains subdirectories for each chosed record; each subdirectory contains 2 gzipped `.fastq` files with forward and reversed reads.\n",
    "\n",
    "MiXCR command to process the reads is as follows:\n",
    "```bash\n",
    "mixcr analyze amplicon --species hs \\\n",
    "        --starting-material dna \\\n",
    "        --5-end v-primers \\\n",
    "        --3-end j-primers \\\n",
    "        --adapters adapters-present \\\n",
    "        --receptor-type TRB \\\n",
    "        R1.fastq R2.fastq results\n",
    "```"
   ]
  },
  {
   "cell_type": "code",
   "execution_count": 4,
   "metadata": {},
   "outputs": [],
   "source": [
    "import os\n",
    "import subprocess\n",
    "import shlex\n",
    "import re\n",
    "from copy import copy"
   ]
  },
  {
   "cell_type": "markdown",
   "metadata": {},
   "source": [
    "# MiXCR processing"
   ]
  },
  {
   "cell_type": "code",
   "execution_count": 112,
   "metadata": {},
   "outputs": [
    {
     "name": "stderr",
     "output_type": "stream",
     "text": [
      "100%|██████████| 240/240 [2:06:19<00:00, 31.58s/it]  \n"
     ]
    }
   ],
   "source": [
    "# patterns to extract subject number from filename\n",
    "pattient_id_pattern = re.compile(r'Pt-[0-9]+-[0-9]+')  \n",
    "healthy_id_pattern = re.compile(r'HD[0-9]+')\n",
    "\n",
    "s = \"\"\"mixcr analyze amplicon --species hs \\\n",
    "        --starting-material dna \\\n",
    "        --5-end v-primers \\\n",
    "        --3-end j-primers \\\n",
    "        --adapters adapters-present \\\n",
    "        --receptor-type TRB \"\"\"\n",
    "\n",
    "template_command = shlex.split(s)\n",
    "\n",
    "path = './'\n",
    "for dirname in tqdm(os.listdir(path)):\n",
    "    reads = {1: None, 2: None}\n",
    "    for filename in os.listdir(path+dirname):\n",
    "        if '_R1_' in filename:\n",
    "            reads[1] = filename\n",
    "        else:\n",
    "            reads[2] = filename\n",
    "            \n",
    "    if all(group not in reads[1] for group in ['HD', 'Pt']):\n",
    "        continue\n",
    "    \n",
    "    # don't need B cells\n",
    "    if 'IGH' in reads[1]:\n",
    "        continue\n",
    "\n",
    "    m = re.search(pattient_id_pattern, reads[1])\n",
    "    if not m:  # didn't match\n",
    "        m = re.search(healthy_id_pattern, reads[1])  \n",
    "    \n",
    "    res_filename = m.group(0)\n",
    "    \n",
    "    command = copy(template_command)\n",
    "    command.extend([reads[1], reads[2], res_filename])\n",
    "    \n",
    "    # run bash \n",
    "    subprocess.run(command, cwd=path+dirname)"
   ]
  },
  {
   "cell_type": "code",
   "execution_count": 134,
   "metadata": {},
   "outputs": [],
   "source": [
    "# move files to group-specific folder\n",
    "healthy_path = '../healthy/'\n",
    "patient_path = '../patient/'\n",
    "\n",
    "path = './'\n",
    "for dirname in os.listdir(path):\n",
    "    for filename in os.listdir(path + dirname):\n",
    "        if filename.endswith('.txt'):\n",
    "            \n",
    "            command = ['cp', f'{path + dirname}/{filename}']\n",
    "            \n",
    "            if 'Pt' in filename:\n",
    "                command.append(patient_path)\n",
    "            else:\n",
    "                command.append(healthy_path)\n",
    "            \n",
    "            subprocess.run(command, check=True)        "
   ]
  }
 ],
 "metadata": {
  "kernelspec": {
   "display_name": "Python 3",
   "language": "python",
   "name": "python3"
  },
  "language_info": {
   "codemirror_mode": {
    "name": "ipython",
    "version": 3
   },
   "file_extension": ".py",
   "mimetype": "text/x-python",
   "name": "python",
   "nbconvert_exporter": "python",
   "pygments_lexer": "ipython3",
   "version": "3.8.5"
  },
  "toc": {
   "base_numbering": 1,
   "nav_menu": {},
   "number_sections": false,
   "sideBar": true,
   "skip_h1_title": false,
   "title_cell": "Table of Contents",
   "title_sidebar": "Contents",
   "toc_cell": false,
   "toc_position": {},
   "toc_section_display": true,
   "toc_window_display": true
  },
  "varInspector": {
   "cols": {
    "lenName": 16,
    "lenType": 16,
    "lenVar": 40
   },
   "kernels_config": {
    "python": {
     "delete_cmd_postfix": "",
     "delete_cmd_prefix": "del ",
     "library": "var_list.py",
     "varRefreshCmd": "print(var_dic_list())"
    },
    "r": {
     "delete_cmd_postfix": ") ",
     "delete_cmd_prefix": "rm(",
     "library": "var_list.r",
     "varRefreshCmd": "cat(var_dic_list()) "
    }
   },
   "types_to_exclude": [
    "module",
    "function",
    "builtin_function_or_method",
    "instance",
    "_Feature"
   ],
   "window_display": false
  }
 },
 "nbformat": 4,
 "nbformat_minor": 4
}
